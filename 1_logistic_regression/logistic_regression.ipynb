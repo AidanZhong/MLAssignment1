{
 "cells": [
  {
   "metadata": {},
   "cell_type": "markdown",
   "source": [
    "# Logistic Regression\n",
    "\n",
    "## 1. Initialize the parameters\n",
    "init weight and biases, since we have 22 features, so we are going to generate 22 random features and a single bias."
   ],
   "id": "537ee897724fd84b"
  },
  {
   "cell_type": "code",
   "id": "initial_id",
   "metadata": {
    "collapsed": true,
    "ExecuteTime": {
     "end_time": "2024-10-30T10:56:04.966037Z",
     "start_time": "2024-10-30T10:56:04.877428Z"
    }
   },
   "source": [
    "import numpy as np\n",
    "\n",
    "NUM_OF_FEATURES = 22\n",
    "weights = np.random.random(NUM_OF_FEATURES)\n",
    "bias = 0  # I randomly init as zero\n",
    "learning_rate = 0.01\n",
    "epochs = 10 ** 7"
   ],
   "outputs": [],
   "execution_count": 1
  },
  {
   "metadata": {},
   "cell_type": "markdown",
   "source": [
    "## 2. Define the Prediction Function\n",
    "$$\n",
    "\\Huge P(x) = \\frac{1}{1+e^{-(x \\cdot weights + bias)}}\n",
    "$$\n",
    "x is the input of 22 features, weight is the matrix of weight for 22 features, P(x) is the Prediction Function"
   ],
   "id": "7d49228e7bff6061"
  },
  {
   "metadata": {
    "ExecuteTime": {
     "end_time": "2024-10-30T10:56:06.711907Z",
     "start_time": "2024-10-30T10:56:06.708272Z"
    }
   },
   "cell_type": "code",
   "source": [
    "def sigmoid(x):\n",
    "    return 1 / (1 + np.exp(-x))\n",
    "\n",
    "\n",
    "# prediction function\n",
    "def p(x, p_weights, p_bias):\n",
    "    return sigmoid(np.dot(x, p_weights) + p_bias)"
   ],
   "id": "b03f50c9050dbb3b",
   "outputs": [],
   "execution_count": 2
  },
  {
   "metadata": {},
   "cell_type": "markdown",
   "source": [
    "## 3. Define the Loss Function (Cross-Entropy)\n",
    "$$\n",
    "\\Huge L = -\\sum_{k=1}^{K} \\left( y_k \\ln(p_k) + (1 - y_k) \\ln(1 - p_k) \\right)\n",
    "$$\n",
    "y means the true label, and p means the prediction"
   ],
   "id": "8588fb99c057812b"
  },
  {
   "metadata": {
    "ExecuteTime": {
     "end_time": "2024-10-30T11:12:04.575165Z",
     "start_time": "2024-10-30T11:12:04.562274Z"
    }
   },
   "cell_type": "code",
   "source": [
    "def compute_loss(y, y_pred):\n",
    "    return - np.sum(y * np.log(y_pred) + (1 - y) * np.log(1 - y_pred))"
   ],
   "id": "8f339773a6bf4c78",
   "outputs": [],
   "execution_count": 3
  },
  {
   "metadata": {},
   "cell_type": "markdown",
   "source": "## 4. Gradient Descent\n",
   "id": "79ec7fa9ad348e47"
  },
  {
   "metadata": {
    "ExecuteTime": {
     "end_time": "2024-10-30T11:12:06.229215Z",
     "start_time": "2024-10-30T11:12:06.222651Z"
    }
   },
   "cell_type": "code",
   "source": [
    "def gradient_descent(x, y, gd_weights, gd_bias, gd_learning_rate, gd_epochs):\n",
    "    n = len(y)\n",
    "    for eee in range(gd_epochs):\n",
    "        y_pred = p(x, gd_weights, gd_bias)\n",
    "\n",
    "        dw = (1 / n) * np.dot(x.T, (y_pred - y))\n",
    "        db = (1 / n) * np.sum(y_pred - y)\n",
    "\n",
    "        gd_weights -= gd_learning_rate * dw\n",
    "        gd_bias -= gd_learning_rate * db\n",
    "\n",
    "        if eee % 100 == 0:\n",
    "            loss = compute_loss(y, y_pred)\n",
    "            print(f\"Epoch {eee}/{gd_epochs}, Loss: {loss}\")\n",
    "\n",
    "    return gd_weights, gd_bias"
   ],
   "id": "98e5d0fcfb29cb71",
   "outputs": [],
   "execution_count": 4
  },
  {
   "metadata": {},
   "cell_type": "markdown",
   "source": "## 5. Model training\n",
   "id": "4b804a63af2e3fde"
  },
  {
   "metadata": {},
   "cell_type": "code",
   "outputs": [],
   "execution_count": null,
   "source": "weights, bias = gradient_descent(x, y, weights, bias, learning_rate, epochs)",
   "id": "79f54293f7788150"
  }
 ],
 "metadata": {
  "kernelspec": {
   "display_name": "Python 3",
   "language": "python",
   "name": "python3"
  },
  "language_info": {
   "codemirror_mode": {
    "name": "ipython",
    "version": 2
   },
   "file_extension": ".py",
   "mimetype": "text/x-python",
   "name": "python",
   "nbconvert_exporter": "python",
   "pygments_lexer": "ipython2",
   "version": "2.7.6"
  }
 },
 "nbformat": 4,
 "nbformat_minor": 5
}
