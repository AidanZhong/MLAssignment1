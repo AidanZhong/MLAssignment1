{
 "cells": [
  {
   "metadata": {},
   "cell_type": "markdown",
   "source": [
    "# Data Preprocess\n",
    "one hot encoding to transfer the data"
   ],
   "id": "6534e15c0bbcb486"
  },
  {
   "metadata": {
    "ExecuteTime": {
     "end_time": "2024-10-30T16:12:06.068872Z",
     "start_time": "2024-10-30T16:12:06.001808Z"
    }
   },
   "cell_type": "code",
   "source": [
    "import CommonUtils\n",
    "\n",
    "X, y = CommonUtils.get_X_y('../mushroom_dataset/agaricus-lepiota.data')\n",
    "print(X, y)"
   ],
   "id": "a4faf9d582c4c081",
   "outputs": [
    {
     "name": "stdout",
     "output_type": "stream",
     "text": [
      "        1_b    1_c    1_f    1_k    1_s    1_x    2_f    2_g    2_s    2_y  \\\n",
      "0     False  False  False  False  False   True  False  False   True  False   \n",
      "1     False  False  False  False  False   True  False  False   True  False   \n",
      "2      True  False  False  False  False  False  False  False   True  False   \n",
      "3     False  False  False  False  False   True  False  False  False   True   \n",
      "4     False  False  False  False  False   True  False  False   True  False   \n",
      "...     ...    ...    ...    ...    ...    ...    ...    ...    ...    ...   \n",
      "8119  False  False  False   True  False  False  False  False   True  False   \n",
      "8120  False  False  False  False  False   True  False  False   True  False   \n",
      "8121  False  False   True  False  False  False  False  False   True  False   \n",
      "8122  False  False  False   True  False  False  False  False  False   True   \n",
      "8123  False  False  False  False  False   True  False  False   True  False   \n",
      "\n",
      "      ...   21_s   21_v   21_y   22_d   22_g   22_l   22_m   22_p   22_u  \\\n",
      "0     ...   True  False  False  False  False  False  False  False   True   \n",
      "1     ...  False  False  False  False   True  False  False  False  False   \n",
      "2     ...  False  False  False  False  False  False   True  False  False   \n",
      "3     ...   True  False  False  False  False  False  False  False   True   \n",
      "4     ...  False  False  False  False   True  False  False  False  False   \n",
      "...   ...    ...    ...    ...    ...    ...    ...    ...    ...    ...   \n",
      "8119  ...  False  False  False  False  False   True  False  False  False   \n",
      "8120  ...  False   True  False  False  False   True  False  False  False   \n",
      "8121  ...  False  False  False  False  False   True  False  False  False   \n",
      "8122  ...  False   True  False  False  False   True  False  False  False   \n",
      "8123  ...  False  False  False  False  False   True  False  False  False   \n",
      "\n",
      "       22_w  \n",
      "0     False  \n",
      "1     False  \n",
      "2     False  \n",
      "3     False  \n",
      "4     False  \n",
      "...     ...  \n",
      "8119  False  \n",
      "8120  False  \n",
      "8121  False  \n",
      "8122  False  \n",
      "8123  False  \n",
      "\n",
      "[8124 rows x 117 columns] 0       1\n",
      "1       0\n",
      "2       0\n",
      "3       1\n",
      "4       0\n",
      "       ..\n",
      "8119    0\n",
      "8120    0\n",
      "8121    0\n",
      "8122    1\n",
      "8123    0\n",
      "Name: 0, Length: 8124, dtype: int64\n"
     ]
    }
   ],
   "execution_count": 43
  },
  {
   "metadata": {},
   "cell_type": "markdown",
   "source": [
    "# Logistic Regression\n",
    "\n",
    "## 1. Initialize the parameters\n",
    "init weight and biases, since we have 22 features, but after one hot encoding, the dimension of feature becames x.shape[1], so we are going to generate s.shape[1] random features and a single bias."
   ],
   "id": "537ee897724fd84b"
  },
  {
   "cell_type": "code",
   "id": "initial_id",
   "metadata": {
    "collapsed": true,
    "ExecuteTime": {
     "end_time": "2024-10-30T16:12:06.094486Z",
     "start_time": "2024-10-30T16:12:06.089836Z"
    }
   },
   "source": [
    "import numpy as np\n",
    "\n",
    "NUM_OF_FEATURES = X.shape[1]\n",
    "weights = np.random.random(NUM_OF_FEATURES)\n",
    "bias = 0  # I randomly init as zero\n",
    "learning_rate = 0.01\n",
    "epochs = 10 ** 5"
   ],
   "outputs": [],
   "execution_count": 44
  },
  {
   "metadata": {},
   "cell_type": "markdown",
   "source": [
    "## 2. Define the Prediction Function\n",
    "$$\n",
    "\\Huge P(x) = \\frac{1}{1+e^{-(x \\cdot weights + bias)}}\n",
    "$$\n",
    "x is the input of features, weight is the matrix of weight for all features, P(x) is the Prediction Function"
   ],
   "id": "7d49228e7bff6061"
  },
  {
   "metadata": {
    "ExecuteTime": {
     "end_time": "2024-10-30T16:12:06.101985Z",
     "start_time": "2024-10-30T16:12:06.099254Z"
    }
   },
   "cell_type": "code",
   "source": [
    "def sigmoid(x):\n",
    "    return 1 / (1 + np.exp(-x))\n",
    "\n",
    "\n",
    "# prediction function\n",
    "def pred(x, p_weights, p_bias):\n",
    "    return sigmoid(np.dot(x, p_weights) + p_bias)\n",
    "\n",
    "\n",
    "def classify(x, cl_weights, cl_bias, threshold=0.5):\n",
    "    y_pred = pred(x, cl_weights, cl_bias)\n",
    "    return [1 if p >= threshold else 0 for p in y_pred]"
   ],
   "id": "b03f50c9050dbb3b",
   "outputs": [],
   "execution_count": 45
  },
  {
   "metadata": {},
   "cell_type": "markdown",
   "source": [
    "## 3. Define the Loss Function (Cross-Entropy)\n",
    "$$\n",
    "\\Huge L = -\\sum_{k=1}^{K} \\left( y_k \\ln(p_k) + (1 - y_k) \\ln(1 - p_k) \\right)\n",
    "$$\n",
    "y means the true label, and p means the prediction"
   ],
   "id": "8588fb99c057812b"
  },
  {
   "metadata": {
    "ExecuteTime": {
     "end_time": "2024-10-30T16:12:06.128513Z",
     "start_time": "2024-10-30T16:12:06.125680Z"
    }
   },
   "cell_type": "code",
   "source": [
    "def compute_loss(y, y_pred):\n",
    "    return - np.sum(y * np.log(y_pred) + (1 - y) * np.log(1 - y_pred))"
   ],
   "id": "8f339773a6bf4c78",
   "outputs": [],
   "execution_count": 46
  },
  {
   "metadata": {},
   "cell_type": "markdown",
   "source": "## 4. Gradient Descent\n",
   "id": "79ec7fa9ad348e47"
  },
  {
   "metadata": {
    "ExecuteTime": {
     "end_time": "2024-10-30T16:12:06.135585Z",
     "start_time": "2024-10-30T16:12:06.132276Z"
    }
   },
   "cell_type": "code",
   "source": [
    "import logging\n",
    "\n",
    "logging.basicConfig(\n",
    "    filename=\"train.log\",\n",
    "    filemode=\"a\",\n",
    "    format=\"%(asctime)s - %(levelname)s - %(message)s\",\n",
    "    datefmt=\"%Y-%m-%d %H:%M:%S\",\n",
    "    level=logging.INFO\n",
    ")\n",
    "\n",
    "\n",
    "def gradient_descent(x, y, gd_weights, gd_bias, gd_learning_rate, gd_epochs):\n",
    "    n = len(y)\n",
    "    logging.info('Start training ---')\n",
    "    for eee in range(gd_epochs):\n",
    "        y_pred = pred(x, gd_weights, gd_bias)\n",
    "\n",
    "        dw = (1 / n) * np.dot(x.T, (y_pred - y))\n",
    "        db = (1 / n) * np.sum(y_pred - y)\n",
    "\n",
    "        gd_weights -= gd_learning_rate * dw\n",
    "        gd_bias -= gd_learning_rate * db\n",
    "\n",
    "        if eee % 100 == 0:\n",
    "            loss = compute_loss(y, y_pred)\n",
    "            logging.info(f\"Epoch {eee}/{gd_epochs}, Loss: {loss}\\n\")\n",
    "\n",
    "    return gd_weights, gd_bias"
   ],
   "id": "98e5d0fcfb29cb71",
   "outputs": [],
   "execution_count": 47
  },
  {
   "metadata": {},
   "cell_type": "markdown",
   "source": "## 5. Model training\n",
   "id": "4b804a63af2e3fde"
  },
  {
   "metadata": {
    "ExecuteTime": {
     "end_time": "2024-10-30T16:33:29.312819Z",
     "start_time": "2024-10-30T16:12:06.146108Z"
    }
   },
   "cell_type": "code",
   "source": [
    "from sklearn.model_selection import KFold\n",
    "from sklearn.metrics import accuracy_score\n",
    "\n",
    "# K-Fold cross-validation\n",
    "k = 5\n",
    "kf = KFold(n_splits=k, shuffle=True, random_state=10)\n",
    "accuracies = []\n",
    "\n",
    "# K-Fold Loop\n",
    "for train_index, test_index in kf.split(X):\n",
    "    # Split the data\n",
    "    X_train, X_test = X.iloc[train_index].values, X.iloc[test_index].values\n",
    "    y_train, y_test = y.iloc[train_index].values, y.iloc[test_index].values\n",
    "\n",
    "    # Train the model using gradient descent\n",
    "    weights, bias = gradient_descent(X_train, y_train, weights, bias, learning_rate, epochs)\n",
    "    print(weights, bias)\n",
    "\n",
    "    # Make predictions on the test set\n",
    "    y_pred = classify(X_test, weights, bias)\n",
    "\n",
    "    # Calculate accuracy and append to the list\n",
    "    accuracy = accuracy_score(y_test, y_pred)\n",
    "    accuracies.append(accuracy)\n",
    "\n",
    "print(accuracies)"
   ],
   "id": "9e7e913775f046a4",
   "outputs": [
    {
     "name": "stdout",
     "output_type": "stream",
     "text": [
      "[ 4.46607186e-01  1.12492055e+00 -2.45303637e-03 -1.52994669e-02\n",
      "  3.41348442e-02 -1.72232255e-01 -9.75810821e-01  8.03299094e-01\n",
      "  1.80999107e-01 -9.61967356e-02  1.15137610e+00  9.77605675e-03\n",
      "  5.88708936e-01  2.81002103e-01 -9.45459715e-02  1.31984766e+00\n",
      "  4.51492994e-01  3.69078230e-01  7.44529521e-01 -1.74966148e-01\n",
      "  1.73881048e-01  1.79960281e-02 -1.77698654e+00  2.39087719e+00\n",
      "  2.56244608e+00 -1.87004545e+00  7.82620939e-01 -3.71721682e+00\n",
      "  1.98390731e+00  1.34853098e+00  9.43222836e-01 -1.80672314e-01\n",
      " -4.81388577e-01  1.45808824e+00 -1.26189180e+00 -2.03034808e+00\n",
      "  2.53575720e+00  2.29014800e+00  3.81237157e-01  4.28127613e-01\n",
      "  4.97849421e-01  7.59246242e-03 -3.32960807e-01  5.57856728e-01\n",
      " -1.34904734e-01  6.57886728e-01 -1.94028180e-02  3.94390711e-02\n",
      "  3.99435683e-01  4.74709811e-01 -6.70074857e-01 -9.68913663e-01\n",
      "  2.30662481e+00 -5.70703944e-01 -5.32922211e-02  4.16847787e-02\n",
      " -3.80286841e-01  1.65776532e+00 -1.15717855e+00  5.69581305e-01\n",
      " -1.01172687e+00  1.21868889e+00 -9.72430628e-02  1.13161992e+00\n",
      "  9.04079273e-01  6.20657102e-01  3.15808269e-01  1.72290584e-01\n",
      "  2.01551723e-01  5.48683342e-02  4.53158883e-01  1.91864384e-01\n",
      "  6.98685353e-01  3.73699453e-01  6.94454677e-01  3.68575127e-01\n",
      "  4.19865501e-01 -2.32843995e-01  1.14637817e-01  7.00434159e-01\n",
      "  2.35712685e-01  8.08304538e-01 -5.71988014e-01  3.61060156e-01\n",
      " -9.83086782e-02 -3.18692415e-01  9.48709610e-01  6.33422542e-01\n",
      " -4.16873438e-01  3.79898506e-01  5.01527582e-01 -2.29133727e-01\n",
      "  7.65755360e-01  3.94229363e-01 -1.06685322e-01 -6.53448692e-02\n",
      "  1.70207545e+00 -6.15220433e-01 -8.05933724e-01  5.99061758e-01\n",
      "  2.91693127e+00 -3.43978393e-01  5.31698785e-01 -1.11420088e-02\n",
      "  1.74744725e-01  1.15983661e+00 -4.76405153e-01  9.51959392e-01\n",
      "  1.20776148e+00 -9.26256402e-01 -2.80878688e-01  1.05255177e+00\n",
      " -2.92717633e-02  9.33656475e-01  4.33505251e-02  1.05402146e+00\n",
      " -1.55970025e-01] -1.092197319164773\n",
      "[ 5.81607711e-01  1.24127068e+00 -1.34244331e-01  4.48716986e-02\n",
      " -1.14782378e-01 -2.14648858e-01 -1.01680218e+00  9.62696135e-01\n",
      "  9.33106753e-02 -1.38517280e-01  1.31784465e+00 -2.66282796e-01\n",
      "  5.86986106e-01  2.98973170e-01 -1.60388017e-01  1.43385739e+00\n",
      "  3.54888656e-01  3.01915139e-01  8.74375610e-01 -1.07473714e-01\n",
      "  2.72866673e-02  1.52987114e-01 -2.39199870e+00  2.93543105e+00\n",
      "  3.02146406e+00 -2.42164626e+00  8.10969240e-01 -4.25414835e+00\n",
      "  2.36828229e+00  1.45855625e+00  1.10884364e+00 -1.97744010e-01\n",
      " -4.75920175e-01  1.78360692e+00 -1.59901378e+00 -2.35540767e+00\n",
      "  2.84921350e+00  2.59386002e+00  2.54329276e-01  3.75734392e-01\n",
      "  4.71543996e-01 -1.00831221e-01 -4.42238627e-01  5.45906895e-01\n",
      " -1.99785304e-01  8.17620483e-01 -1.17836589e-03 -1.45069036e-02\n",
      "  4.60246571e-01  5.86269848e-01 -7.93238189e-01 -9.73951757e-01\n",
      "  2.73618884e+00 -7.65972854e-01 -1.10283013e-01 -1.42184747e-01\n",
      " -6.18107247e-01  2.04232652e+00 -1.30251587e+00  5.56574536e-01\n",
      " -1.21169538e+00  1.17029835e+00 -1.82029290e-01  1.45316190e+00\n",
      "  9.17339801e-01  6.49005403e-01  2.07949478e-01  1.28804415e-01\n",
      "  1.00187835e-01  2.51804558e-02  5.43254125e-01  2.12370284e-01\n",
      "  8.17268813e-01  3.90365349e-01  7.22802978e-01  2.62255221e-01\n",
      "  3.76782589e-01 -5.19264042e-01  8.49499385e-02  7.64235066e-01\n",
      "  3.18558471e-01  1.07055110e+00 -5.83591308e-01  3.43295823e-01\n",
      " -1.10232224e-01 -4.19191291e-01  1.06729307e+00  6.61770843e-01\n",
      " -3.80889748e-01  3.03963221e-01  6.62116337e-01 -5.65636171e-01\n",
      "  8.30373405e-01  4.22577664e-01 -3.53412721e-02 -7.19095361e-02\n",
      "  1.79652505e+00 -8.08821430e-01 -1.06467590e+00  5.86092231e-01\n",
      "  3.55773216e+00 -7.24035712e-01  6.43678008e-01 -1.80403386e-02\n",
      "  1.73948395e-01  1.50339116e+00 -5.83459690e-01  1.01222124e+00\n",
      "  1.10289222e+00 -1.12895596e+00 -2.51441052e-01  1.20998315e+00\n",
      "  3.71894501e-02  1.09139820e+00 -1.13017170e-01  9.99964602e-01\n",
      " -3.68220727e-01] -1.1038006134242162\n",
      "[ 6.03550656e-01  1.29276957e+00 -1.12000246e-01  5.61306682e-02\n",
      " -2.03951037e-01 -2.47085762e-01 -1.03792588e+00  1.07495094e+00\n",
      "  9.38661854e-03 -1.60385006e-01  1.41241059e+00 -4.23579569e-01\n",
      "  5.82981360e-01  3.44602970e-01 -2.02177007e-01  1.47200480e+00\n",
      "  2.95984667e-01  2.56105957e-01  9.82228284e-01 -1.00526537e-01\n",
      " -9.27317885e-02  2.58344896e-01 -2.76792846e+00  3.27168648e+00\n",
      "  3.29285733e+00 -2.76765690e+00  8.25048913e-01 -4.54953317e+00\n",
      "  2.58675628e+00  1.52356831e+00  1.20629378e+00 -2.08615224e-01\n",
      " -4.79709634e-01  1.92266238e+00 -1.75272991e+00 -2.62181560e+00\n",
      "  3.10096075e+00  2.76866189e+00  1.70261831e-01  3.30504894e-01\n",
      "  4.63661330e-01 -1.71362492e-01 -4.98382837e-01  5.38331941e-01\n",
      " -2.78443584e-01  9.08678860e-01 -2.22256650e-03  3.13962262e-02\n",
      "  4.84955050e-01  6.68893193e-01 -8.90522207e-01 -9.92656407e-01\n",
      "  3.02970895e+00 -8.90259567e-01 -1.62495401e-01 -2.55161776e-01\n",
      " -7.60083988e-01  2.28876446e+00 -1.40324467e+00  5.38181466e-01\n",
      " -1.35296348e+00  1.12081781e+00 -2.22360234e-01  1.66958081e+00\n",
      "  9.24626273e-01  6.63085076e-01  1.32079581e-01  1.04948237e-01\n",
      "  3.45814665e-02  8.63414369e-03  5.87010746e-01  2.47922740e-01\n",
      "  8.83811675e-01  3.99525837e-01  7.36882651e-01  1.92442520e-01\n",
      "  3.50843910e-01 -6.50185337e-01  6.84036263e-02  7.98625420e-01\n",
      "  3.75113108e-01  1.18492426e+00 -5.98251981e-01  3.33291315e-01\n",
      " -1.16774028e-01 -4.83848514e-01  1.13383593e+00  6.75850515e-01\n",
      " -2.94163939e-01  1.88497065e-01  7.27971854e-01 -7.74307606e-01\n",
      "  8.67816314e-01  4.36657336e-01  4.12913913e-02 -7.58911555e-02\n",
      "  1.84690720e+00 -9.46711490e-01 -1.21363777e+00  5.79463405e-01\n",
      "  3.95549418e+00 -9.65450090e-01  7.24373118e-01 -2.26635400e-02\n",
      "  1.73772183e-01  1.77783467e+00 -6.38771693e-01  1.02149300e+00\n",
      "  9.90108901e-01 -1.25906037e+00 -2.26939635e-01  1.23874150e+00\n",
      "  1.40380743e-01  1.21700467e+00 -2.30689641e-01  9.75218885e-01\n",
      " -5.22520739e-01] -1.1184612868333972\n",
      "[ 6.22250213e-01  1.30610311e+00 -1.19560755e-01  6.28344203e-02\n",
      " -2.57963012e-01 -2.40235481e-01 -1.07909135e+00  1.12462989e+00\n",
      "  8.32291069e-03 -1.83820128e-01  1.50692064e+00 -5.29746097e-01\n",
      "  5.81149815e-01  3.76037008e-01 -1.98778139e-01  1.49420635e+00\n",
      "  2.65579190e-01  2.13482778e-01  1.01197621e+00 -1.16777596e-01\n",
      " -1.50788319e-01  3.00416069e-01 -3.01716706e+00  3.50664469e+00\n",
      "  3.48876598e+00 -3.03034701e+00  8.36800604e-01 -4.77260689e+00\n",
      "  2.74035063e+00  1.57820240e+00  1.27446385e+00 -2.16374514e-01\n",
      " -4.87935703e-01  2.04746344e+00 -1.89351633e+00 -2.76979791e+00\n",
      "  3.23295771e+00  2.89949838e+00  1.20429972e-01  3.23453615e-01\n",
      "  4.43154531e-01 -1.82930091e-01 -5.25271882e-01  5.33059842e-01\n",
      " -3.06963485e-01  9.61155317e-01 -1.03367343e-02 -1.06537261e-02\n",
      "  4.85459441e-01  7.10972911e-01 -9.48587283e-01 -9.88392969e-01\n",
      "  3.22143452e+00 -9.93187818e-01 -1.78792270e-01 -3.47911023e-01\n",
      " -8.55937189e-01  2.47372162e+00 -1.47617436e+00  5.06021842e-01\n",
      " -1.43920102e+00  1.11361445e+00 -2.54555895e-01  1.77923202e+00\n",
      "  9.30736983e-01  6.74836767e-01  8.45236752e-02  8.88818480e-02\n",
      " -6.07303237e-04 -3.70587618e-03  6.24340420e-01  2.70886935e-01\n",
      "  9.00821131e-01  4.05202039e-01  7.48634342e-01  1.48930681e-01\n",
      "  3.33997392e-01 -7.32288191e-01  5.60636065e-02  8.29040535e-01\n",
      "  4.10164309e-01  1.24084592e+00 -6.14237340e-01  3.25979405e-01\n",
      " -1.21802138e-01 -5.04503308e-01  1.15084539e+00  6.87602206e-01\n",
      " -2.72140003e-01  1.38736080e-01  7.62609420e-01 -9.28317123e-01\n",
      "  8.96033460e-01  4.48409027e-01  1.04709146e-01 -7.88124307e-02\n",
      "  1.88077402e+00 -1.03730017e+00 -1.32765611e+00  5.73810367e-01\n",
      "  4.24800242e+00 -1.11587034e+00  7.48481320e-01 -2.55305622e-02\n",
      "  1.73710272e-01  1.91695307e+00 -6.73955878e-01  1.02661938e+00\n",
      "  9.48680180e-01 -1.34261569e+00 -2.29046588e-01  1.29824432e+00\n",
      "  1.59617543e-01  1.29290984e+00 -3.09128115e-01  9.85439729e-01\n",
      " -6.22826300e-01] -1.1344466449163184\n",
      "[ 6.19073565e-01  1.33141171e+00 -8.98713153e-02  4.08309459e-02\n",
      " -3.05198954e-01 -2.23279319e-01 -1.11083048e+00  1.17842771e+00\n",
      " -2.63250232e-03 -1.95385273e-01  1.56858232e+00 -5.98045783e-01\n",
      "  5.82190517e-01  3.84252349e-01 -2.10153698e-01  1.51329114e+00\n",
      "  2.33839953e-01  1.84698104e-01  1.04130777e+00 -9.63743861e-02\n",
      " -1.74010309e-01  3.23176194e-01 -3.21286048e+00  3.70887582e+00\n",
      "  3.63317157e+00 -3.23485993e+00  8.44345357e-01 -4.94177505e+00\n",
      "  2.86088662e+00  1.61852324e+00  1.32833817e+00 -2.22712757e-01\n",
      " -4.82059324e-01  2.14083968e+00 -1.98735443e+00 -2.87446603e+00\n",
      "  3.33716396e+00  2.99967201e+00  8.13247134e-02  3.03691743e-01\n",
      "  4.37226801e-01 -2.23924401e-01 -5.47079499e-01  5.28438824e-01\n",
      " -3.18070931e-01  1.00833188e+00 -1.11818361e-02 -3.00488395e-02\n",
      "  5.01212851e-01  7.67208944e-01 -1.00528518e+00 -9.66809333e-01\n",
      "  3.36643564e+00 -1.03742578e+00 -2.29812812e-01 -4.19699133e-01\n",
      " -9.22585047e-01  2.61769983e+00 -1.55155724e+00  5.03612494e-01\n",
      " -1.50977856e+00  1.09667228e+00 -2.86033472e-01  1.89776745e+00\n",
      "  9.34672741e-01  6.82381520e-01  5.31481342e-02  7.69687849e-02\n",
      " -3.89072052e-02 -1.38240133e-02  6.50718471e-01  2.78608176e-01\n",
      "  9.46486107e-01  4.08836588e-01  7.56179095e-01  1.14817213e-01\n",
      "  3.21833647e-01 -7.78163790e-01  4.59454694e-02  8.49632657e-01\n",
      "  4.11208204e-01  1.30983969e+00 -6.14699204e-01  3.19784006e-01\n",
      " -1.25724876e-01 -5.40512011e-01  1.19651036e+00  6.95146960e-01\n",
      " -2.54593137e-01  1.13182597e-01  8.48616266e-01 -1.03881452e+00\n",
      "  9.14629013e-01  4.55953781e-01  1.02597530e-01 -8.11627660e-02\n",
      "  1.90870374e+00 -1.11688034e+00 -1.41873072e+00  5.69152314e-01\n",
      "  4.50752775e+00 -1.24034606e+00  7.65300329e-01 -2.81276064e-02\n",
      "  1.73675757e-01  2.02541506e+00 -6.98765944e-01  1.03390100e+00\n",
      "  9.34151057e-01 -1.41944746e+00 -1.98907491e-01  1.35183282e+00\n",
      "  1.83163306e-01  1.37273362e+00 -3.92795396e-01  9.54397092e-01\n",
      " -6.95675395e-01] -1.1349085096330678\n",
      "[1.0, 0.9993846153846154, 1.0, 1.0, 1.0]\n"
     ]
    }
   ],
   "execution_count": 48
  }
 ],
 "metadata": {
  "kernelspec": {
   "display_name": "Python 3",
   "language": "python",
   "name": "python3"
  },
  "language_info": {
   "codemirror_mode": {
    "name": "ipython",
    "version": 2
   },
   "file_extension": ".py",
   "mimetype": "text/x-python",
   "name": "python",
   "nbconvert_exporter": "python",
   "pygments_lexer": "ipython2",
   "version": "2.7.6"
  }
 },
 "nbformat": 4,
 "nbformat_minor": 5
}
