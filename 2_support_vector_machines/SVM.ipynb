{
 "cells": [
  {
   "cell_type": "code",
   "execution_count": null,
   "id": "initial_id",
   "metadata": {
    "collapsed": true
   },
   "outputs": [],
   "source": [
    "import pandas as pd\n",
    "from sklearn.model_selection import train_test_split\n",
    "from sklearn.model_selection import KFold, cross_val_score\n",
    "\n",
    "file_path = '../mushroom_dataset/agaricus-lepiota.data'\n",
    "data = pd.read_csv(file_path, header=None)\n",
    "\n",
    "def preprocess_data(data):\n",
    "    # Map the first column ('e', 'p') to binary values\n",
    "    data[0] = data[0].apply(lambda x: 1 if x == 'p' else 0)  # 1 for poisonous, 0 for edible\n",
    "    X = pd.get_dummies(data.iloc[:, 1:])\n",
    "    y = data[0]\n",
    "\n",
    "    return X, y\n",
    "\n",
    "x,y=preprocess_data(data)\n",
    "\n",
    "\n",
    "\n",
    "kf = KFold(n_splits=5, shuffle=True, random_state=24)\n",
    "\n",
    "X_train, X_test, y_train, y_test = train_test_split(x, y, test_size=0.3, random_state=1)\n",
    "\n",
    "\n",
    "\n",
    "from sklearn.svm import SVC\n",
    "svm_clf = SVC(C=1.0, kernel='rbf', degree=3, gamma='auto',probability=True)\n",
    "\n",
    "scores = cross_val_score(svm_clf, x, y, cv=kf)\n",
    "#svm_clf.fit(X_train, y_train)\n",
    "\n",
    "# predictions = svm_clf.predict(X_test)\n",
    "\n",
    "# from sklearn.metrics import accuracy_score\n",
    "# accuracy = accuracy_score(y_test, predictions)\n",
    "\n",
    "print(scores)\n",
    "\n"
   ]
  }
 ],
 "metadata": {
  "kernelspec": {
   "display_name": "MLE",
   "language": "python",
   "name": "python3"
  },
  "language_info": {
   "codemirror_mode": {
    "name": "ipython",
    "version": 2
   },
   "file_extension": ".py",
   "mimetype": "text/x-python",
   "name": "python",
   "nbconvert_exporter": "python",
   "pygments_lexer": "ipython2",
   "version": "3.10.15"
  }
 },
 "nbformat": 4,
 "nbformat_minor": 5
}
