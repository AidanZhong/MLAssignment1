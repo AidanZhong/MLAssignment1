{
 "cells": [
  {
   "metadata": {},
   "cell_type": "markdown",
   "source": [
    "# Data Preprocessing\n",
    "with one hot encoding"
   ],
   "id": "51ce743e855bc0a1"
  },
  {
   "cell_type": "code",
   "id": "initial_id",
   "metadata": {
    "collapsed": true,
    "ExecuteTime": {
     "end_time": "2024-10-30T16:46:34.425104Z",
     "start_time": "2024-10-30T16:46:34.381896Z"
    }
   },
   "source": [
    "import CommonUtils\n",
    "\n",
    "X, y = CommonUtils.get_X_y('../mushroom_dataset/agaricus-lepiota.data')\n",
    "print(X, y)"
   ],
   "outputs": [
    {
     "name": "stdout",
     "output_type": "stream",
     "text": [
      "        1_b    1_c    1_f    1_k    1_s    1_x    2_f    2_g    2_s    2_y  \\\n",
      "0     False  False  False  False  False   True  False  False   True  False   \n",
      "1     False  False  False  False  False   True  False  False   True  False   \n",
      "2      True  False  False  False  False  False  False  False   True  False   \n",
      "3     False  False  False  False  False   True  False  False  False   True   \n",
      "4     False  False  False  False  False   True  False  False   True  False   \n",
      "...     ...    ...    ...    ...    ...    ...    ...    ...    ...    ...   \n",
      "8119  False  False  False   True  False  False  False  False   True  False   \n",
      "8120  False  False  False  False  False   True  False  False   True  False   \n",
      "8121  False  False   True  False  False  False  False  False   True  False   \n",
      "8122  False  False  False   True  False  False  False  False  False   True   \n",
      "8123  False  False  False  False  False   True  False  False   True  False   \n",
      "\n",
      "      ...   21_s   21_v   21_y   22_d   22_g   22_l   22_m   22_p   22_u  \\\n",
      "0     ...   True  False  False  False  False  False  False  False   True   \n",
      "1     ...  False  False  False  False   True  False  False  False  False   \n",
      "2     ...  False  False  False  False  False  False   True  False  False   \n",
      "3     ...   True  False  False  False  False  False  False  False   True   \n",
      "4     ...  False  False  False  False   True  False  False  False  False   \n",
      "...   ...    ...    ...    ...    ...    ...    ...    ...    ...    ...   \n",
      "8119  ...  False  False  False  False  False   True  False  False  False   \n",
      "8120  ...  False   True  False  False  False   True  False  False  False   \n",
      "8121  ...  False  False  False  False  False   True  False  False  False   \n",
      "8122  ...  False   True  False  False  False   True  False  False  False   \n",
      "8123  ...  False  False  False  False  False   True  False  False  False   \n",
      "\n",
      "       22_w  \n",
      "0     False  \n",
      "1     False  \n",
      "2     False  \n",
      "3     False  \n",
      "4     False  \n",
      "...     ...  \n",
      "8119  False  \n",
      "8120  False  \n",
      "8121  False  \n",
      "8122  False  \n",
      "8123  False  \n",
      "\n",
      "[8124 rows x 117 columns] 0       1\n",
      "1       0\n",
      "2       0\n",
      "3       1\n",
      "4       0\n",
      "       ..\n",
      "8119    0\n",
      "8120    0\n",
      "8121    0\n",
      "8122    1\n",
      "8123    0\n",
      "Name: 0, Length: 8124, dtype: int64\n"
     ]
    }
   ],
   "execution_count": 27
  },
  {
   "metadata": {},
   "cell_type": "markdown",
   "source": [
    "# Neural Network\n",
    "## 1. Define the MLP Classifier\n",
    "\n",
    "define 2 hidden layers with 50 and 50 nodes, use relu as activation function, max iteration time is 1000"
   ],
   "id": "d540bc1b4f06850f"
  },
  {
   "metadata": {
    "ExecuteTime": {
     "end_time": "2024-10-30T16:46:34.492975Z",
     "start_time": "2024-10-30T16:46:34.490320Z"
    }
   },
   "cell_type": "code",
   "source": [
    "from sklearn.model_selection import cross_val_score, StratifiedKFold\n",
    "from sklearn.neural_network import MLPClassifier\n",
    "\n",
    "# Define the MLP model\n",
    "mlp = MLPClassifier(hidden_layer_sizes=(50, 50),\n",
    "                    activation='relu',\n",
    "                    solver='adam',\n",
    "                    max_iter=100,\n",
    "                    random_state=10)"
   ],
   "id": "375d0c48fdd01905",
   "outputs": [],
   "execution_count": 28
  },
  {
   "metadata": {},
   "cell_type": "markdown",
   "source": "## 2. k-fold Cross-Validation",
   "id": "5700605cfce86ae7"
  },
  {
   "metadata": {
    "ExecuteTime": {
     "end_time": "2024-10-30T16:46:40.452983Z",
     "start_time": "2024-10-30T16:46:34.518900Z"
    }
   },
   "cell_type": "code",
   "source": [
    "k = 5  # number of folds\n",
    "kfold = StratifiedKFold(n_splits=k, shuffle=True, random_state=10)\n",
    "\n",
    "cv_scores = cross_val_score(mlp, X, y, cv=kfold, scoring='accuracy')\n",
    "\n",
    "print(f\"Cross-validation accuracies for each fold: {cv_scores}\")\n",
    "print(f\"Average cross-validation accuracy: {cv_scores.mean():.2f}\")"
   ],
   "id": "fbabb62977633569",
   "outputs": [
    {
     "name": "stdout",
     "output_type": "stream",
     "text": [
      "Cross-validation accuracies for each fold: [1. 1. 1. 1. 1.]\n",
      "Average cross-validation accuracy: 1.00\n"
     ]
    }
   ],
   "execution_count": 29
  }
 ],
 "metadata": {
  "kernelspec": {
   "display_name": "Python 3",
   "language": "python",
   "name": "python3"
  },
  "language_info": {
   "codemirror_mode": {
    "name": "ipython",
    "version": 2
   },
   "file_extension": ".py",
   "mimetype": "text/x-python",
   "name": "python",
   "nbconvert_exporter": "python",
   "pygments_lexer": "ipython2",
   "version": "2.7.6"
  }
 },
 "nbformat": 4,
 "nbformat_minor": 5
}
